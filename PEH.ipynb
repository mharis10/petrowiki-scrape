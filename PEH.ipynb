{
  "nbformat": 4,
  "nbformat_minor": 0,
  "metadata": {
    "colab": {
      "name": "PEH.ipynb",
      "provenance": [],
      "collapsed_sections": []
    },
    "kernelspec": {
      "name": "python3",
      "display_name": "Python 3"
    },
    "language_info": {
      "name": "python"
    }
  },
  "cells": [
    {
      "cell_type": "code",
      "execution_count": null,
      "metadata": {
        "id": "LJe0SGk9Ui3t"
      },
      "outputs": [],
      "source": [
        "\n",
        "!pip install selenium\n",
        "!apt-get update \n",
        "!apt install chromium-chromedriver\n",
        "\n"
      ]
    },
    {
      "cell_type": "code",
      "source": [
        "from selenium import webdriver\n",
        "from selenium.webdriver.support.ui import WebDriverWait\n",
        "from selenium.webdriver.common.by import By\n",
        "from selenium.webdriver.support import expected_conditions as EC"
      ],
      "metadata": {
        "id": "3lPd9lSdUk-7"
      },
      "execution_count": null,
      "outputs": []
    },
    {
      "cell_type": "code",
      "source": [
        "def scrape_peh(n):\n",
        "  final = []\n",
        "  chrome_options = webdriver.ChromeOptions()\n",
        "  chrome_options.add_argument('--headless')\n",
        "  chrome_options.add_argument('--no-sandbox')\n",
        "  chrome_options.add_argument('--disable-dev-shm-usage')\n",
        "  driver = webdriver.Chrome('chromedriver',chrome_options=chrome_options)\n",
        "  driver.get(\"https://petrowiki.spe.org/Category:PEH\")\n",
        "  driver.implicitly_wait(10)\n",
        "  peh = driver.find_element(\"link text\",\"Pet. Eng. Handbook\")\n",
        "  peh.click()\n",
        "  peh_group = driver.find_element('class name', 'mw-content-ltr')\n",
        "  g_items = peh_group.find_elements('tag name', 'li')\n",
        "  g_items = g_items[0:104]\n",
        "  links = []\n",
        "  for g in g_items:\n",
        "    links.append(driver.find_element('link text', g.text))\n",
        "  links[n].click()\n",
        "  main = driver.find_element('id' , 'mw-content-text')\n",
        "  paras = main.find_elements('tag name','p')\n",
        "  paras = paras[10:]\n",
        "  for p in paras:\n",
        "    final.append(p.text)\n",
        "  expands = driver.find_elements('link text','Expand')\n",
        "  print(len(expands))\n",
        "  base = '//*[@id=\"mw-content-text\"]/div/div['\n",
        "  base1 = '//*[@id=\"mw-content-text\"]/div/div['\n",
        "  exp = '//*[@id=\"mw-content-text\"]/div/div['\n",
        "  #expands_space = driver.find_elements()\n",
        "  \n",
        "  for i in range(len(expands)):\n",
        "    #exp_ = exp + str(i) + ']/span/a'\n",
        "    try:\n",
        "      expands[i].click()\n",
        "    except:\n",
        "      continue\n",
        "\n",
        "    #xpath = base1 + str(i) + ']/div'\n",
        "    #try:\n",
        "    #  others = driver.find_element('xpath', xpath)\n",
        "    #  final.append(others.text)\n",
        "    #except:\n",
        "    #  continue\n",
        "    #print(others.text)\n",
        "  for i in range(3, len(expands)):\n",
        "    #expands[i].click()\n",
        "    xpath = base + str(i) + ']'\n",
        "    others = driver.find_element('xpath', xpath)\n",
        "    final.append(others.text)\n",
        "    print(others.text)\n",
        "    print(i, \"done\")\n",
        "  return final\n",
        "  #others = driver.find_element('xpath', '//*[@id=\"mw-content-text\"]/div/div[5]')\n",
        "  #for o in others:\n",
        "  #print(others.text)\n",
        "  #print(final)"
      ],
      "metadata": {
        "id": "2YKLVYLOUm2v"
      },
      "execution_count": null,
      "outputs": []
    },
    {
      "cell_type": "code",
      "source": [
        "result = []\n",
        "for i in range(104):\n",
        "  result.append(scrape_peh(i))"
      ],
      "metadata": {
        "id": "WJKFeZ6wUpDm"
      },
      "execution_count": null,
      "outputs": []
    },
    {
      "cell_type": "code",
      "source": [
        "with open('peh.txt', 'w') as f:\n",
        "    for item in result:\n",
        "        f.write(\"%s\\n\" % item)"
      ],
      "metadata": {
        "id": "FEKj2PocUqzL"
      },
      "execution_count": null,
      "outputs": []
    }
  ]
}